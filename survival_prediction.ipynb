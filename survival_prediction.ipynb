{
 "cells": [
  {
   "cell_type": "markdown",
   "id": "43fdc6e3-d526-4f40-82a6-8b19affeda3c",
   "metadata": {},
   "source": [
    "######################################################\n",
    "## Step 1: Import Libraries and Configure Visuals\n",
    "######################################################"
   ]
  },
  {
   "cell_type": "code",
   "execution_count": 48,
   "id": "16a15b27-0cd0-40ac-8f2e-e7d2eb75c121",
   "metadata": {},
   "outputs": [],
   "source": [
    "import pandas as pd\n",
    "import numpy as np\n",
    "\n",
    "import seaborn as sns\n",
    "import matplotlib.pyplot as plt\n",
    "\n",
    "from sklearn.model_selection import train_test_split, GridSearchCV\n",
    "from sklearn.ensemble import RandomForestClassifier\n",
    "from sklearn.metrics import classification_report, confusion_matrix\n",
    "from imblearn.over_sampling import SMOTE"
   ]
  },
  {
   "cell_type": "markdown",
   "id": "539e4ba4-2a6b-46b3-babd-08ae32961a9a",
   "metadata": {},
   "source": [
    "######################################################\n",
    "## Step 2: Load Data and Basic Inspection\n",
    "######################################################"
   ]
  },
  {
   "cell_type": "code",
   "execution_count": 47,
   "id": "f7dafded-3155-47fd-894d-d9d0f19aacf1",
   "metadata": {},
   "outputs": [
    {
     "name": "stdout",
     "output_type": "stream",
     "text": [
      "Full Data (Before Dropping Missing Values):\n",
      "       Patient_ID   Age  Gender  Protein1  Protein2  Protein3  Protein4  \\\n",
      "0    TCGA-D8-A1XD  36.0  FEMALE  0.080353   0.42638   0.54715  0.273680   \n",
      "1    TCGA-EW-A1OX  43.0  FEMALE -0.420320   0.57807   0.61447 -0.031505   \n",
      "2    TCGA-A8-A079  69.0  FEMALE  0.213980   1.31140  -0.32747 -0.234260   \n",
      "3    TCGA-D8-A1XR  56.0  FEMALE  0.345090  -0.21147  -0.19304  0.124270   \n",
      "4    TCGA-BH-A0BF  56.0  FEMALE  0.221550   1.90680   0.52045 -0.311990   \n",
      "..            ...   ...     ...       ...       ...       ...       ...   \n",
      "336           NaN   NaN     NaN       NaN       NaN       NaN       NaN   \n",
      "337           NaN   NaN     NaN       NaN       NaN       NaN       NaN   \n",
      "338           NaN   NaN     NaN       NaN       NaN       NaN       NaN   \n",
      "339           NaN   NaN     NaN       NaN       NaN       NaN       NaN   \n",
      "340           NaN   NaN     NaN       NaN       NaN       NaN       NaN   \n",
      "\n",
      "    Tumour_Stage                      Histology ER status PR status  \\\n",
      "0            III  Infiltrating Ductal Carcinoma  Positive  Positive   \n",
      "1             II             Mucinous Carcinoma  Positive  Positive   \n",
      "2            III  Infiltrating Ductal Carcinoma  Positive  Positive   \n",
      "3             II  Infiltrating Ductal Carcinoma  Positive  Positive   \n",
      "4             II  Infiltrating Ductal Carcinoma  Positive  Positive   \n",
      "..           ...                            ...       ...       ...   \n",
      "336          NaN                            NaN       NaN       NaN   \n",
      "337          NaN                            NaN       NaN       NaN   \n",
      "338          NaN                            NaN       NaN       NaN   \n",
      "339          NaN                            NaN       NaN       NaN   \n",
      "340          NaN                            NaN       NaN       NaN   \n",
      "\n",
      "    HER2 status                 Surgery_type Date_of_Surgery  \\\n",
      "0      Negative  Modified Radical Mastectomy       15-Jan-17   \n",
      "1      Negative                   Lumpectomy       26-Apr-17   \n",
      "2      Negative                        Other       08-Sep-17   \n",
      "3      Negative  Modified Radical Mastectomy       25-Jan-17   \n",
      "4      Negative                        Other       06-May-17   \n",
      "..          ...                          ...             ...   \n",
      "336         NaN                          NaN             NaN   \n",
      "337         NaN                          NaN             NaN   \n",
      "338         NaN                          NaN             NaN   \n",
      "339         NaN                          NaN             NaN   \n",
      "340         NaN                          NaN             NaN   \n",
      "\n",
      "    Date_of_Last_Visit Patient_Status  \n",
      "0            19-Jun-17          Alive  \n",
      "1            09-Nov-18           Dead  \n",
      "2            09-Jun-18          Alive  \n",
      "3            12-Jul-17          Alive  \n",
      "4            27-Jun-19           Dead  \n",
      "..                 ...            ...  \n",
      "336                NaN            NaN  \n",
      "337                NaN            NaN  \n",
      "338                NaN            NaN  \n",
      "339                NaN            NaN  \n",
      "340                NaN            NaN  \n",
      "\n",
      "[341 rows x 16 columns]\n",
      "\n",
      "Shape of the original dataset: (341, 16)\n",
      "\n",
      "Missing Values per column:\n",
      "Patient_ID             7\n",
      "Age                    7\n",
      "Gender                 7\n",
      "Protein1               7\n",
      "Protein2               7\n",
      "Protein3               7\n",
      "Protein4               7\n",
      "Tumour_Stage           7\n",
      "Histology              7\n",
      "ER status              7\n",
      "PR status              7\n",
      "HER2 status            7\n",
      "Surgery_type           7\n",
      "Date_of_Surgery        7\n",
      "Date_of_Last_Visit    24\n",
      "Patient_Status        20\n",
      "dtype: int64\n",
      "\n",
      "Data shape after dropping missing values: (317, 16)\n",
      "\n",
      "Data Info:\n",
      "<class 'pandas.core.frame.DataFrame'>\n",
      "Index: 317 entries, 0 to 333\n",
      "Data columns (total 16 columns):\n",
      " #   Column              Non-Null Count  Dtype  \n",
      "---  ------              --------------  -----  \n",
      " 0   Patient_ID          317 non-null    object \n",
      " 1   Age                 317 non-null    float64\n",
      " 2   Gender              317 non-null    object \n",
      " 3   Protein1            317 non-null    float64\n",
      " 4   Protein2            317 non-null    float64\n",
      " 5   Protein3            317 non-null    float64\n",
      " 6   Protein4            317 non-null    float64\n",
      " 7   Tumour_Stage        317 non-null    object \n",
      " 8   Histology           317 non-null    object \n",
      " 9   ER status           317 non-null    object \n",
      " 10  PR status           317 non-null    object \n",
      " 11  HER2 status         317 non-null    object \n",
      " 12  Surgery_type        317 non-null    object \n",
      " 13  Date_of_Surgery     317 non-null    object \n",
      " 14  Date_of_Last_Visit  317 non-null    object \n",
      " 15  Patient_Status      317 non-null    object \n",
      "dtypes: float64(5), object(11)\n",
      "memory usage: 42.1+ KB\n"
     ]
    }
   ],
   "source": [
    "data = pd.read_csv(\"BRCA.csv\")\n",
    "print(\"Full Data (Before Dropping Missing Values):\")\n",
    "print(data) \n",
    "\n",
    "print(\"\\nShape of the original dataset:\", data.shape)\n",
    "print(\"\\nMissing Values per column:\")\n",
    "print(data.isnull().sum())\n",
    "\n",
    "# Drop rows with missing values\n",
    "data = data.dropna()\n",
    "print(\"\\nData shape after dropping missing values:\", data.shape)\n",
    "\n",
    "print(\"\\nData Info:\")\n",
    "data.info()"
   ]
  },
  {
   "cell_type": "code",
   "execution_count": null,
   "id": "feaba85c-fab7-43b1-9787-e1af7574b9fd",
   "metadata": {},
   "outputs": [],
   "source": []
  },
  {
   "cell_type": "markdown",
   "id": "1bbb1c26-e5a7-484d-ae52-ac7ee5d47560",
   "metadata": {},
   "source": [
    "######################################################\n",
    "## Step 3: Exploratory Data Analysis (EDA)\n",
    "######################################################"
   ]
  },
  {
   "cell_type": "code",
   "execution_count": 52,
   "id": "8662cd64-f3a5-4417-9407-bf73e7269e32",
   "metadata": {},
   "outputs": [
    {
     "name": "stdout",
     "output_type": "stream",
     "text": [
      "\n",
      "--- EDA Outputs ---\n",
      "\n",
      "Gender Distribution:\n",
      "Gender\n",
      "FEMALE    313\n",
      "MALE        4\n",
      "Name: count, dtype: int64\n"
     ]
    },
    {
     "data": {
      "image/png": "[encoded data removed]",
      "text/plain": [
       "<Figure size 600x400 with 1 Axes>"
      ]
     },
     "metadata": {},
     "output_type": "display_data"
    },
    {
     "data": {
      "image/png": "[encoded data removed]",
      "text/plain": [
       "<Figure size 600x400 with 1 Axes>"
      ]
     },
     "metadata": {},
     "output_type": "display_data"
    },
    {
     "data": {
      "image/png": "[encoded data removed]",
      "text/plain": [
       "<Figure size 600x400 with 1 Axes>"
      ]
     },
     "metadata": {},
     "output_type": "display_data"
    }
   ],
   "source": [
    "print(\"\\n--- EDA Outputs ---\")\n",
    "\n",
    "# Distribution of Gender\n",
    "print(\"\\nGender Distribution:\")\n",
    "print(data[\"Gender\"].value_counts())\n",
    "\n",
    "# Convert columns to consistent case (optional) for plotting\n",
    "data[\"Gender\"] = data[\"Gender\"].str.upper()  # e.g., \"FEMALE\"/\"MALE\"\n",
    "data[\"Tumour_Stage\"] = data[\"Tumour_Stage\"].str.upper()  # e.g., \"I\"/\"II\"/\"III\"\n",
    "\n",
    "# Bar chart for Tumour_Stage (sorted high to low)\n",
    "plt.figure(figsize=(6,4))\n",
    "stage_counts = data[\"Tumour_Stage\"].value_counts().sort_values(ascending=False)\n",
    "sns.barplot(x=stage_counts.index, y=stage_counts.values)\n",
    "plt.title(\"Tumour Stage Distribution\")\n",
    "plt.xlabel(\"Tumour Stage\")\n",
    "plt.ylabel(\"Count\")\n",
    "plt.show()\n",
    "\n",
    "# Bar chart for Histology (sorted high to low)\n",
    "plt.figure(figsize=(6,4))\n",
    "hist_counts = data[\"Histology\"].value_counts().sort_values(ascending=False)\n",
    "sns.barplot(x=hist_counts.index, y=hist_counts.values)\n",
    "plt.title(\"Histology Distribution\")\n",
    "plt.xlabel(\"Histology\")\n",
    "plt.ylabel(\"Count\")\n",
    "plt.show()\n",
    "\n",
    "# Bar chart for Surgery_type (sorted high to low)\n",
    "plt.figure(figsize=(6,4))\n",
    "surg_counts = data[\"Surgery_type\"].value_counts().sort_values(ascending=False)\n",
    "sns.barplot(x=surg_counts.index, y=surg_counts.values)\n",
    "plt.title(\"Surgery Type Distribution\")\n",
    "plt.xlabel(\"Surgery Type\")\n",
    "plt.ylabel(\"Count\")\n",
    "plt.show()"
   ]
  },
  {
   "cell_type": "markdown",
   "id": "58b8c9c9-6713-4f91-882e-29c3040897e9",
   "metadata": {},
   "source": [
    "######################################################\n",
    "## Step 4: Encode Categorical Columns\n",
    "######################################################"
   ]
  },
  {
   "cell_type": "code",
   "execution_count": 53,
   "id": "a81c9554-8800-4ac2-bf35-2fda87589869",
   "metadata": {},
   "outputs": [],
   "source": [
    "# Map text categories to numeric\n",
    "data[\"Tumour_Stage\"] = data[\"Tumour_Stage\"].map({\"I\": 1, \"II\": 2, \"III\": 3})\n",
    "data[\"Histology\"] = data[\"Histology\"].map({\n",
    "    \"Infiltrating Ductal Carcinoma\": 1, \n",
    "    \"Infiltrating Lobular Carcinoma\": 2, \n",
    "    \"Mucinous Carcinoma\": 3\n",
    "})\n",
    "data[\"ER status\"] = data[\"ER status\"].map({\"Positive\": 1})\n",
    "data[\"PR status\"] = data[\"PR status\"].map({\"Positive\": 1})\n",
    "data[\"HER2 status\"] = data[\"HER2 status\"].map({\"Positive\": 1, \"Negative\": 2})\n",
    "data[\"Gender\"] = data[\"Gender\"].map({\"MALE\": 0, \"FEMALE\": 1})\n",
    "data[\"Surgery_type\"] = data[\"Surgery_type\"].map({\n",
    "    \"Other\": 1, \n",
    "    \"Modified Radical Mastectomy\": 2, \n",
    "    \"Lumpectomy\": 3, \n",
    "    \"Simple Mastectomy\": 4\n",
    "})"
   ]
  },
  {
   "cell_type": "markdown",
   "id": "7d9b7684-c6e4-44d9-96da-c805bb626a5f",
   "metadata": {},
   "source": [
    "######################################################\n",
    "## Step 5: Prepare Features (X) and Target (y)\n",
    "######################################################"
   ]
  },
  {
   "cell_type": "code",
   "execution_count": 54,
   "id": "8a9dc9ef-b28a-4891-9702-d8ee4270a1d2",
   "metadata": {},
   "outputs": [
    {
     "name": "stdout",
     "output_type": "stream",
     "text": [
      "\n",
      "Feature matrix (X) shape: (317, 12)\n",
      "Target vector (y) length: 317\n"
     ]
    }
   ],
   "source": [
    "X = data[['Age', 'Gender', 'Protein1', 'Protein2', 'Protein3', 'Protein4', \n",
    "          'Tumour_Stage', 'Histology', 'ER status', 'PR status', \n",
    "          'HER2 status', 'Surgery_type']]\n",
    "y = data['Patient_Status']\n",
    "\n",
    "print(\"\\nFeature matrix (X) shape:\", X.shape)\n",
    "print(\"Target vector (y) length:\", len(y))"
   ]
  },
  {
   "cell_type": "markdown",
   "id": "d41b71f2-c3c3-4206-aa39-8e79711b2684",
   "metadata": {},
   "source": [
    "######################################################\n",
    "## Step 6: Train-Test Split\n",
    "######################################################"
   ]
  },
  {
   "cell_type": "code",
   "execution_count": 56,
   "id": "dbd8de2f-b49c-4022-ac47-c75c9580eae6",
   "metadata": {},
   "outputs": [
    {
     "name": "stdout",
     "output_type": "stream",
     "text": [
      "\n",
      "Split data into training (90%) and test (10%) sets.\n",
      "X_train shape: (285, 12) , y_train length: 285\n",
      "X_test shape: (32, 12) , y_test length: 32\n"
     ]
    }
   ],
   "source": [
    "X_train, X_test, y_train, y_test = train_test_split(\n",
    "    X, y, test_size=0.10, random_state=42\n",
    ")\n",
    "print(\"\\nSplit data into training (90%) and test (10%) sets.\")\n",
    "print(\"X_train shape:\", X_train.shape, \", y_train length:\", len(y_train))\n",
    "print(\"X_test shape:\", X_test.shape, \", y_test length:\", len(y_test))"
   ]
  },
  {
   "cell_type": "markdown",
   "id": "728717e7-c599-45a9-9ce8-12fdd58408d1",
   "metadata": {},
   "source": [
    "######################################################\n",
    "## Step 7: Address Class Imbalance with SMOTE\n",
    "######################################################"
   ]
  },
  {
   "cell_type": "code",
   "execution_count": 57,
   "id": "fc149907-22bb-4435-869f-9b693d399d4a",
   "metadata": {},
   "outputs": [
    {
     "name": "stdout",
     "output_type": "stream",
     "text": [
      "\n",
      "SMOTE applied to the training set.\n",
      "Training set before SMOTE: (285, 12)\n",
      "Training set after SMOTE: (458, 12)\n"
     ]
    }
   ],
   "source": [
    "sm = SMOTE(random_state=42)\n",
    "X_train_res, y_train_res = sm.fit_resample(X_train, y_train)\n",
    "\n",
    "print(\"\\nSMOTE applied to the training set.\")\n",
    "print(\"Training set before SMOTE:\", X_train.shape)\n",
    "print(\"Training set after SMOTE:\", X_train_res.shape)"
   ]
  },
  {
   "cell_type": "markdown",
   "id": "ab81db8e-26a1-4a94-ab47-a0429079636f",
   "metadata": {},
   "source": [
    "######################################################\n",
    "## Step 8: Define Parameter Grid and GridSearchCV\n",
    "######################################################"
   ]
  },
  {
   "cell_type": "code",
   "execution_count": 58,
   "id": "047a9c07-f236-4cf6-8ed8-385743e1a0d2",
   "metadata": {},
   "outputs": [
    {
     "name": "stdout",
     "output_type": "stream",
     "text": [
      "\n",
      "Starting GridSearchCV with parameters: {'n_estimators': [50, 100], 'max_depth': [None, 10, 20], 'min_samples_split': [2, 5], 'class_weight': [None, 'balanced']}\n"
     ]
    }
   ],
   "source": [
    "param_grid = {\n",
    "    'n_estimators': [50, 100],\n",
    "    'max_depth': [None, 10, 20],\n",
    "    'min_samples_split': [2, 5],\n",
    "    'class_weight': [None, 'balanced']\n",
    "}\n",
    "\n",
    "rf = RandomForestClassifier(random_state=42)\n",
    "\n",
    "grid_search = GridSearchCV(\n",
    "    estimator=rf, \n",
    "    param_grid=param_grid, \n",
    "    cv=5, \n",
    "    scoring='accuracy', \n",
    "    n_jobs=-1\n",
    ")\n",
    "\n",
    "print(\"\\nStarting GridSearchCV with parameters:\", param_grid)"
   ]
  },
  {
   "cell_type": "markdown",
   "id": "cbb22234-e3d6-4ccd-99aa-f781ec8eb182",
   "metadata": {},
   "source": [
    "######################################################\n",
    "## Step 9: Train the Model with GridSearch\n",
    "######################################################"
   ]
  },
  {
   "cell_type": "code",
   "execution_count": 60,
   "id": "78211ad8-0368-40cb-b239-382037d86cd2",
   "metadata": {},
   "outputs": [
    {
     "name": "stdout",
     "output_type": "stream",
     "text": [
      "Grid search complete.\n",
      "Best Parameters: {'class_weight': None, 'max_depth': None, 'min_samples_split': 2, 'n_estimators': 50}\n",
      "Best CV Score: **0.83**\n"
     ]
    }
   ],
   "source": [
    "grid_search.fit(X_train_res, y_train_res)\n",
    "\n",
    "print(\"Grid search complete.\")\n",
    "print(\"Best Parameters:\", grid_search.best_params_)\n",
    "print(\"Best CV Score: **{:.2f}**\".format(grid_search.best_score_))\n",
    "\n",
    "best_rf = grid_search.best_estimator_"
   ]
  },
  {
   "cell_type": "markdown",
   "id": "97ef7e02-1a40-4d7f-a734-c0322e370043",
   "metadata": {},
   "source": [
    "######################################################\n",
    "## Step 10: Evaluate on Test Data\n",
    "######################################################"
   ]
  },
  {
   "cell_type": "code",
   "execution_count": 61,
   "id": "613857cd-256e-4317-8875-4e94ec9b7f40",
   "metadata": {},
   "outputs": [
    {
     "name": "stdout",
     "output_type": "stream",
     "text": [
      "\n",
      "Test Accuracy: **0.72**\n",
      "\n",
      "Classification Report:\n",
      "              precision    recall  f1-score   support\n",
      "\n",
      "       Alive       0.81      0.85      0.83        26\n",
      "        Dead       0.20      0.17      0.18         6\n",
      "\n",
      "    accuracy                           0.72        32\n",
      "   macro avg       0.51      0.51      0.51        32\n",
      "weighted avg       0.70      0.72      0.71        32\n",
      "\n",
      "Confusion Matrix:\n",
      "[[22  4]\n",
      " [ 5  1]]\n"
     ]
    }
   ],
   "source": [
    "test_accuracy = best_rf.score(X_test, y_test)\n",
    "print(\"\\nTest Accuracy: **{:.2f}**\".format(test_accuracy))\n",
    "\n",
    "y_pred = best_rf.predict(X_test)\n",
    "print(\"\\nClassification Report:\")\n",
    "print(classification_report(y_test, y_pred, zero_division=0))\n",
    "\n",
    "print(\"Confusion Matrix:\")\n",
    "print(confusion_matrix(y_test, y_pred))"
   ]
  }
 ],
 "metadata": {
  "kernelspec": {
   "display_name": "Python 3 (ipykernel)",
   "language": "python",
   "name": "python3"
  },
  "language_info": {
   "codemirror_mode": {
    "name": "ipython",
    "version": 3
   },
   "file_extension": ".py",
   "mimetype": "text/x-python",
   "name": "python",
   "nbconvert_exporter": "python",
   "pygments_lexer": "ipython3",
   "version": "3.11.7"
  }
 },
 "nbformat": 4,
 "nbformat_minor": 5
}
